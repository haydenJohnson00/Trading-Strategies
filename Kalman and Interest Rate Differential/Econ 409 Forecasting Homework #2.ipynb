{
 "cells": [
  {
   "cell_type": "markdown",
   "id": "a642230a",
   "metadata": {},
   "source": [
    "# Hayden Johnson\n",
    "# Econ 409 Forecasting Homework #2"
   ]
  },
  {
   "cell_type": "code",
   "execution_count": 1,
   "id": "dd0f0021",
   "metadata": {},
   "outputs": [],
   "source": [
    "import matplotlib.pyplot as plt\n",
    "import pandas as pd\n",
    "import numpy as np\n",
    "import datetime\n",
    "import io\n",
    "import datetime\n",
    "import matplotlib.lines as mlines\n",
    "import statsmodels.formula.api as smf\n",
    "from statsmodels.tsa.arima.model import ARIMA\n",
    "from statsmodels.tsa.arima_process import ArmaProcess\n",
    "from statsmodels.graphics.tsaplots import plot_acf, plot_pacf\n",
    "import scipy.stats as st\n",
    "import warnings"
   ]
  },
  {
   "cell_type": "code",
   "execution_count": 2,
   "id": "0611146f",
   "metadata": {},
   "outputs": [],
   "source": [
    "data = pd.read_csv('hw2_data.csv', parse_dates = True, index_col = 0)[[\"I_US\", \"I_EU\"]]"
   ]
  },
  {
   "cell_type": "code",
   "execution_count": 3,
   "id": "33e18ce1",
   "metadata": {},
   "outputs": [
    {
     "data": {
      "text/html": [
       "<div>\n",
       "<style scoped>\n",
       "    .dataframe tbody tr th:only-of-type {\n",
       "        vertical-align: middle;\n",
       "    }\n",
       "\n",
       "    .dataframe tbody tr th {\n",
       "        vertical-align: top;\n",
       "    }\n",
       "\n",
       "    .dataframe thead th {\n",
       "        text-align: right;\n",
       "    }\n",
       "</style>\n",
       "<table border=\"1\" class=\"dataframe\">\n",
       "  <thead>\n",
       "    <tr style=\"text-align: right;\">\n",
       "      <th></th>\n",
       "      <th>I_US</th>\n",
       "      <th>I_EU</th>\n",
       "    </tr>\n",
       "  </thead>\n",
       "  <tbody>\n",
       "    <tr>\n",
       "      <th>2003-12-01</th>\n",
       "      <td>1.11</td>\n",
       "      <td>2.1590</td>\n",
       "    </tr>\n",
       "    <tr>\n",
       "      <th>2004-01-01</th>\n",
       "      <td>1.10</td>\n",
       "      <td>2.1463</td>\n",
       "    </tr>\n",
       "    <tr>\n",
       "      <th>2004-02-01</th>\n",
       "      <td>1.06</td>\n",
       "      <td>2.0895</td>\n",
       "    </tr>\n",
       "    <tr>\n",
       "      <th>2004-03-01</th>\n",
       "      <td>1.05</td>\n",
       "      <td>2.0706</td>\n",
       "    </tr>\n",
       "    <tr>\n",
       "      <th>2004-04-01</th>\n",
       "      <td>1.05</td>\n",
       "      <td>2.0288</td>\n",
       "    </tr>\n",
       "  </tbody>\n",
       "</table>\n",
       "</div>"
      ],
      "text/plain": [
       "            I_US    I_EU\n",
       "2003-12-01  1.11  2.1590\n",
       "2004-01-01  1.10  2.1463\n",
       "2004-02-01  1.06  2.0895\n",
       "2004-03-01  1.05  2.0706\n",
       "2004-04-01  1.05  2.0288"
      ]
     },
     "execution_count": 3,
     "metadata": {},
     "output_type": "execute_result"
    }
   ],
   "source": [
    "data.head()"
   ]
  },
  {
   "cell_type": "markdown",
   "id": "d3e209c6",
   "metadata": {},
   "source": [
    "## 1"
   ]
  },
  {
   "cell_type": "markdown",
   "id": "94e55a8e",
   "metadata": {},
   "source": [
    "**a)**"
   ]
  },
  {
   "cell_type": "code",
   "execution_count": 4,
   "id": "4a7ea773",
   "metadata": {},
   "outputs": [],
   "source": [
    "interest = data[['I_US','I_EU']].copy()"
   ]
  },
  {
   "cell_type": "code",
   "execution_count": 5,
   "id": "ea3eabca",
   "metadata": {},
   "outputs": [
    {
     "data": {
      "text/html": [
       "<div>\n",
       "<style scoped>\n",
       "    .dataframe tbody tr th:only-of-type {\n",
       "        vertical-align: middle;\n",
       "    }\n",
       "\n",
       "    .dataframe tbody tr th {\n",
       "        vertical-align: top;\n",
       "    }\n",
       "\n",
       "    .dataframe thead th {\n",
       "        text-align: right;\n",
       "    }\n",
       "</style>\n",
       "<table border=\"1\" class=\"dataframe\">\n",
       "  <thead>\n",
       "    <tr style=\"text-align: right;\">\n",
       "      <th></th>\n",
       "      <th>Euro</th>\n",
       "    </tr>\n",
       "  </thead>\n",
       "  <tbody>\n",
       "    <tr>\n",
       "      <th>2003-12-01</th>\n",
       "      <td>1.196501</td>\n",
       "    </tr>\n",
       "    <tr>\n",
       "      <th>2004-01-01</th>\n",
       "      <td>1.258194</td>\n",
       "    </tr>\n",
       "    <tr>\n",
       "      <th>2004-02-01</th>\n",
       "      <td>1.246805</td>\n",
       "    </tr>\n",
       "    <tr>\n",
       "      <th>2004-03-01</th>\n",
       "      <td>1.244803</td>\n",
       "    </tr>\n",
       "    <tr>\n",
       "      <th>2004-04-01</th>\n",
       "      <td>1.236507</td>\n",
       "    </tr>\n",
       "  </tbody>\n",
       "</table>\n",
       "</div>"
      ],
      "text/plain": [
       "                Euro\n",
       "2003-12-01  1.196501\n",
       "2004-01-01  1.258194\n",
       "2004-02-01  1.246805\n",
       "2004-03-01  1.244803\n",
       "2004-04-01  1.236507"
      ]
     },
     "execution_count": 5,
     "metadata": {},
     "output_type": "execute_result"
    }
   ],
   "source": [
    "exrate = pd.read_csv(\"hw2_data.csv\",parse_dates = True, index_col = 0)[[\"Euro\"]]\n",
    "exrate.head()"
   ]
  },
  {
   "cell_type": "code",
   "execution_count": 6,
   "id": "12ba6cfb",
   "metadata": {},
   "outputs": [
    {
     "data": {
      "text/plain": [
       "Text(0.5, 1.0, 'US Interbank Rate')"
      ]
     },
     "execution_count": 6,
     "metadata": {},
     "output_type": "execute_result"
    },
    {
     "data": {
      "image/png": "[encoded data removed]",
      "text/plain": [
       "<Figure size 432x288 with 1 Axes>"
      ]
     },
     "metadata": {
      "needs_background": "light"
     },
     "output_type": "display_data"
    }
   ],
   "source": [
    "interest['I_US'].dropna().plot()\n",
    "plt.title('US Interbank Rate')"
   ]
  },
  {
   "cell_type": "code",
   "execution_count": 7,
   "id": "247d2d69",
   "metadata": {},
   "outputs": [],
   "source": [
    "# Implement min max scaling in a function\n",
    "def scale(x):\n",
    "    return (x-x.min())/(x.max()-x.min())\n",
    "\n",
    "# Apply Scaling\n",
    "interest[\"ir_diff\"] = scale(interest[\"I_US\"]) - scale(interest[\"I_EU\"])\n",
    "interest.dropna(inplace= True)"
   ]
  },
  {
   "cell_type": "code",
   "execution_count": 8,
   "id": "69ef1b85",
   "metadata": {},
   "outputs": [
    {
     "data": {
      "text/plain": [
       "<AxesSubplot:title={'center':'Interest Rate Differential With Scaling'}>"
      ]
     },
     "execution_count": 8,
     "metadata": {},
     "output_type": "execute_result"
    },
    {
     "data": {
      "image/png": "[encoded data removed]",
      "text/plain": [
       "<Figure size 432x288 with 1 Axes>"
      ]
     },
     "metadata": {
      "needs_background": "light"
     },
     "output_type": "display_data"
    }
   ],
   "source": [
    "plt.title(\"Interest Rate Differential With Scaling\")\n",
    "interest[\"ir_diff\"].plot()"
   ]
  },
  {
   "cell_type": "markdown",
   "id": "7574d447",
   "metadata": {},
   "source": [
    "**b)**"
   ]
  },
  {
   "cell_type": "code",
   "execution_count": 9,
   "id": "0c9f5b32",
   "metadata": {},
   "outputs": [],
   "source": [
    "# Below are teh two sets of parameters that I used to generate the visualizations you see in the slides\n",
    "\n",
    "# No CI version\n",
    "k = 0.43\n",
    "z = 1.645\n",
    "T = 20\n",
    "\n",
    "#changing K\n",
    "#k = 0.88\n",
    "#z = 1.645\n",
    "#T = 20\n",
    "\n",
    "#changing Z\n",
    "#k = 0.43\n",
    "#z = 8.645\n",
    "#T = 20\n",
    "\n",
    "#changing T\n",
    "#k = 0.43\n",
    "#z = 5.645\n",
    "#T = 800\n",
    "\n",
    "# This implements the kalman filter in python\n",
    "# It is simple otherwise to create using a for loop\n",
    "interest[\"Filter\"] = interest.ir_diff.ewm(alpha = k, adjust = False).mean()\n",
    "\n",
    "# Compute the filter error\n",
    "interest[\"Filter Error\"] = interest.ir_diff - interest[\"Filter\"]"
   ]
  },
  {
   "cell_type": "markdown",
   "id": "85b0aa99",
   "metadata": {},
   "source": [
    "**c)**"
   ]
  },
  {
   "cell_type": "code",
   "execution_count": 10,
   "id": "8f6967e0",
   "metadata": {},
   "outputs": [
    {
     "data": {
      "image/png": "[encoded data removed]",
      "text/plain": [
       "<Figure size 1080x360 with 1 Axes>"
      ]
     },
     "metadata": {
      "needs_background": "light"
     },
     "output_type": "display_data"
    }
   ],
   "source": [
    "plt.figure(figsize = (15, 5))\n",
    "\n",
    "plt.title(\"Int. Rate Diff. USDEUR & Kalman Filter\")\n",
    "\n",
    "#plotting the USDEURO interest rate differential\n",
    "plt.plot(interest['ir_diff'])\n",
    "#plotting the Kalman Filter\n",
    "plt.plot(interest['Filter'])\n",
    "\n",
    "#Creating an easily readable legend\n",
    "plt.legend([\"Interest Rate Differential\", \"Kalmar Filter\"]) \n",
    "#plt.xlim([datetime.date(2022, 1, 1), datetime.date(2023, 1, 1)])\n",
    "plt.grid()"
   ]
  },
  {
   "cell_type": "code",
   "execution_count": 11,
   "id": "53bd404e",
   "metadata": {},
   "outputs": [
    {
     "data": {
      "text/html": [
       "<div>\n",
       "<style scoped>\n",
       "    .dataframe tbody tr th:only-of-type {\n",
       "        vertical-align: middle;\n",
       "    }\n",
       "\n",
       "    .dataframe tbody tr th {\n",
       "        vertical-align: top;\n",
       "    }\n",
       "\n",
       "    .dataframe thead th {\n",
       "        text-align: right;\n",
       "    }\n",
       "</style>\n",
       "<table border=\"1\" class=\"dataframe\">\n",
       "  <thead>\n",
       "    <tr style=\"text-align: right;\">\n",
       "      <th></th>\n",
       "      <th>ir_diff</th>\n",
       "      <th>Filter</th>\n",
       "      <th>Filter Error</th>\n",
       "      <th>E_bar</th>\n",
       "      <th>mu_t</th>\n",
       "      <th>var_t</th>\n",
       "      <th>Test Statistic</th>\n",
       "      <th>Signal</th>\n",
       "    </tr>\n",
       "  </thead>\n",
       "  <tbody>\n",
       "    <tr>\n",
       "      <th>2005-07-01</th>\n",
       "      <td>0.136397</td>\n",
       "      <td>0.096988</td>\n",
       "      <td>0.039408</td>\n",
       "      <td>0.025808</td>\n",
       "      <td>0.025808</td>\n",
       "      <td>0.017592</td>\n",
       "      <td>6.560854</td>\n",
       "      <td>0</td>\n",
       "    </tr>\n",
       "    <tr>\n",
       "      <th>2005-08-01</th>\n",
       "      <td>0.170107</td>\n",
       "      <td>0.128429</td>\n",
       "      <td>0.041678</td>\n",
       "      <td>0.026564</td>\n",
       "      <td>0.027892</td>\n",
       "      <td>0.017493</td>\n",
       "      <td>7.130834</td>\n",
       "      <td>0</td>\n",
       "    </tr>\n",
       "    <tr>\n",
       "      <th>2005-09-01</th>\n",
       "      <td>0.204844</td>\n",
       "      <td>0.161287</td>\n",
       "      <td>0.043556</td>\n",
       "      <td>0.027336</td>\n",
       "      <td>0.030059</td>\n",
       "      <td>0.017451</td>\n",
       "      <td>7.703085</td>\n",
       "      <td>0</td>\n",
       "    </tr>\n",
       "    <tr>\n",
       "      <th>2005-10-01</th>\n",
       "      <td>0.222203</td>\n",
       "      <td>0.187481</td>\n",
       "      <td>0.034722</td>\n",
       "      <td>0.027658</td>\n",
       "      <td>0.031716</td>\n",
       "      <td>0.017120</td>\n",
       "      <td>8.285206</td>\n",
       "      <td>0</td>\n",
       "    </tr>\n",
       "    <tr>\n",
       "      <th>2005-11-01</th>\n",
       "      <td>0.260255</td>\n",
       "      <td>0.218774</td>\n",
       "      <td>0.041481</td>\n",
       "      <td>0.028234</td>\n",
       "      <td>0.033703</td>\n",
       "      <td>0.016979</td>\n",
       "      <td>8.876982</td>\n",
       "      <td>0</td>\n",
       "    </tr>\n",
       "  </tbody>\n",
       "</table>\n",
       "</div>"
      ],
      "text/plain": [
       "             ir_diff    Filter  Filter Error     E_bar      mu_t     var_t  \\\n",
       "2005-07-01  0.136397  0.096988      0.039408  0.025808  0.025808  0.017592   \n",
       "2005-08-01  0.170107  0.128429      0.041678  0.026564  0.027892  0.017493   \n",
       "2005-09-01  0.204844  0.161287      0.043556  0.027336  0.030059  0.017451   \n",
       "2005-10-01  0.222203  0.187481      0.034722  0.027658  0.031716  0.017120   \n",
       "2005-11-01  0.260255  0.218774      0.041481  0.028234  0.033703  0.016979   \n",
       "\n",
       "            Test Statistic  Signal  \n",
       "2005-07-01        6.560854       0  \n",
       "2005-08-01        7.130834       0  \n",
       "2005-09-01        7.703085       0  \n",
       "2005-10-01        8.285206       0  \n",
       "2005-11-01        8.876982       0  "
      ]
     },
     "execution_count": 11,
     "metadata": {},
     "output_type": "execute_result"
    }
   ],
   "source": [
    "int2 = interest[[\"ir_diff\", \"Filter\", \"Filter Error\"]].copy()\n",
    "\n",
    "# get the sample mean at each point in time using an expanding window\n",
    "int2[\"E_bar\"] = int2[\"Filter Error\"].expanding(T).mean()\n",
    "\n",
    "# get the sample mean at each point in time using a rolling window\n",
    "int2[\"mu_t\"] = int2[\"Filter Error\"].rolling(T).mean()\n",
    "\n",
    "# get the variance at each point in time using an expanding window\n",
    "int2[\"var_t\"] = int2[\"Filter Error\"].expanding(T).std()\n",
    "\n",
    "# calculate the test statistic\n",
    "int2[\"Test Statistic\"] = int2[\"mu_t\"]/(int2[\"var_t\"]/np.sqrt(T))\n",
    "\n",
    "# create a new coluimn with a 0 default value\n",
    "int2[\"Signal\"] = 0\n",
    "for i in int2.index:\n",
    "    # create signals based on the sign of the current mean and if we fail to reject the null\n",
    "    if (int2.loc[i, \"Test Statistic\"] < z) & (int2.loc[i, \"E_bar\"] >= 0):\n",
    "        int2.loc[i, \"Signal\"] = 1\n",
    "    elif (int2.loc[i, \"Test Statistic\"] > -z) & (int2.loc[i, \"E_bar\"] < 0):\n",
    "        int2.loc[i, \"Signal\"] = -1\n",
    "\n",
    "int2.dropna(inplace = True)\n",
    "int2.head()"
   ]
  },
  {
   "cell_type": "code",
   "execution_count": 12,
   "id": "140f2843",
   "metadata": {},
   "outputs": [
    {
     "data": {
      "text/plain": [
       " 1    126\n",
       " 0     76\n",
       "-1      8\n",
       "Name: Signal, dtype: int64"
      ]
     },
     "execution_count": 12,
     "metadata": {},
     "output_type": "execute_result"
    }
   ],
   "source": [
    "int2.Signal.value_counts()"
   ]
  },
  {
   "cell_type": "code",
   "execution_count": 13,
   "id": "478cebe5",
   "metadata": {},
   "outputs": [
    {
     "data": {
      "image/png": "[encoded data removed]",
      "text/plain": [
       "<Figure size 1080x360 with 1 Axes>"
      ]
     },
     "metadata": {
      "needs_background": "light"
     },
     "output_type": "display_data"
    }
   ],
   "source": [
    "#interest2 = interest2[interest2.index.year >= 2017]\n",
    "fig, ax = plt.subplots(figsize = (15, 5))\n",
    "ax.set_title(\"Kalman Filter With 409 Statistical Test, K = .4 and T =\"+str(T))\n",
    "\n",
    "ax.set_ylabel(\"Scaled Interest Rate Differential\")\n",
    "ax.plot(int2[\"ir_diff\"])\n",
    "ax.plot(int2[\"Filter\"])\n",
    "\n",
    "\n",
    "\n",
    "ax.scatter(int2[int2.Signal == 1].index, int2[int2.Signal == 1][\"ir_diff\"], color = \"black\")\n",
    "ax.scatter(int2[int2.Signal == -1].index, int2[int2.Signal == -1][\"ir_diff\"], color = \"red\")\n",
    "\n",
    "ax.legend([\"Scaled Interest Rate Differential\", \"Kalman CI\"])\n",
    "\n",
    "\n",
    "#plt.xlim([datetime.date(2022, 1, 1), datetime.date(2023, 1, 1)])\n",
    "ax.grid()"
   ]
  },
  {
   "cell_type": "markdown",
   "id": "c6631c85",
   "metadata": {},
   "source": [
    "# 2"
   ]
  },
  {
   "cell_type": "markdown",
   "id": "ddad1e36",
   "metadata": {},
   "source": [
    "**a)**"
   ]
  },
  {
   "cell_type": "code",
   "execution_count": 14,
   "id": "1f432097",
   "metadata": {},
   "outputs": [],
   "source": [
    "# Create a dataframe at a daily frequency wiyh start and end \n",
    "# dates that cover the observation period\n",
    "drange = pd.date_range(start =interest.index[0], end = \"2022-12-01\")\n",
    "daily  = pd.DataFrame(index = drange)\n",
    "\n",
    "daily[\"Signal\"] = int2[\"Signal\"]\n",
    "\n",
    "daily[\"Filter\"] = int2[\"Filter\"]\n",
    "\n",
    "daily[\"Filter\"] = daily[\"Filter\"].ffill()\n",
    "\n",
    "daily[\"ir_diff\"] = int2[\"ir_diff\"]\n",
    "daily[\"ir_diff\"] = daily[\"ir_diff\"].ffill()\n",
    "daily = daily.fillna(0)\n",
    "\n",
    "i = 30\n",
    "daily[str(i)+\"_signal\"] = 0\n",
    "for j in daily.index:\n",
    "    if daily.loc[j,\"Signal\"] != 0:\n",
    "        daily.loc[j:j+datetime.timedelta(i), str(i)+\"_signal\"] = daily.loc[j, \"Signal\"]"
   ]
  },
  {
   "cell_type": "code",
   "execution_count": 15,
   "id": "6ce1d876",
   "metadata": {},
   "outputs": [],
   "source": [
    "drange = pd.date_range(start =int2.index[0], end = \"2022-12-01\")\n",
    "exdf = pd.DataFrame(index = drange)\n",
    "\n",
    "exdf[\"EURUSD\"] = exrate\n",
    "exdf[\"EURUSD\"] = exdf[\"EURUSD\"].ffill()\n",
    "\n",
    "daily[\"EURUSD\"] = exdf[\"EURUSD\"]\n",
    "daily[\"Returns\"] = np.log(daily[\"EURUSD\"]).diff()"
   ]
  },
  {
   "cell_type": "code",
   "execution_count": 16,
   "id": "9f396382",
   "metadata": {},
   "outputs": [],
   "source": [
    "s = i\n",
    "daily[str(s)+\"_returns\"] = (np.exp((daily[str(i)+\"_signal\"].shift()*daily.Returns).cumsum())-1)"
   ]
  },
  {
   "cell_type": "code",
   "execution_count": 17,
   "id": "a5fb289b",
   "metadata": {},
   "outputs": [
    {
     "data": {
      "text/html": [
       "<div>\n",
       "<style scoped>\n",
       "    .dataframe tbody tr th:only-of-type {\n",
       "        vertical-align: middle;\n",
       "    }\n",
       "\n",
       "    .dataframe tbody tr th {\n",
       "        vertical-align: top;\n",
       "    }\n",
       "\n",
       "    .dataframe thead th {\n",
       "        text-align: right;\n",
       "    }\n",
       "</style>\n",
       "<table border=\"1\" class=\"dataframe\">\n",
       "  <thead>\n",
       "    <tr style=\"text-align: right;\">\n",
       "      <th></th>\n",
       "      <th>Signal</th>\n",
       "      <th>Filter</th>\n",
       "      <th>ir_diff</th>\n",
       "      <th>30_signal</th>\n",
       "      <th>EURUSD</th>\n",
       "      <th>Returns</th>\n",
       "      <th>30_returns</th>\n",
       "      <th>30_success</th>\n",
       "    </tr>\n",
       "  </thead>\n",
       "  <tbody>\n",
       "    <tr>\n",
       "      <th>2003-12-01</th>\n",
       "      <td>0.0</td>\n",
       "      <td>0.0</td>\n",
       "      <td>0.0</td>\n",
       "      <td>0</td>\n",
       "      <td>NaN</td>\n",
       "      <td>NaN</td>\n",
       "      <td>NaN</td>\n",
       "      <td>NaN</td>\n",
       "    </tr>\n",
       "    <tr>\n",
       "      <th>2003-12-02</th>\n",
       "      <td>0.0</td>\n",
       "      <td>0.0</td>\n",
       "      <td>0.0</td>\n",
       "      <td>0</td>\n",
       "      <td>NaN</td>\n",
       "      <td>NaN</td>\n",
       "      <td>NaN</td>\n",
       "      <td>NaN</td>\n",
       "    </tr>\n",
       "    <tr>\n",
       "      <th>2003-12-03</th>\n",
       "      <td>0.0</td>\n",
       "      <td>0.0</td>\n",
       "      <td>0.0</td>\n",
       "      <td>0</td>\n",
       "      <td>NaN</td>\n",
       "      <td>NaN</td>\n",
       "      <td>NaN</td>\n",
       "      <td>NaN</td>\n",
       "    </tr>\n",
       "    <tr>\n",
       "      <th>2003-12-04</th>\n",
       "      <td>0.0</td>\n",
       "      <td>0.0</td>\n",
       "      <td>0.0</td>\n",
       "      <td>0</td>\n",
       "      <td>NaN</td>\n",
       "      <td>NaN</td>\n",
       "      <td>NaN</td>\n",
       "      <td>NaN</td>\n",
       "    </tr>\n",
       "    <tr>\n",
       "      <th>2003-12-05</th>\n",
       "      <td>0.0</td>\n",
       "      <td>0.0</td>\n",
       "      <td>0.0</td>\n",
       "      <td>0</td>\n",
       "      <td>NaN</td>\n",
       "      <td>NaN</td>\n",
       "      <td>NaN</td>\n",
       "      <td>NaN</td>\n",
       "    </tr>\n",
       "  </tbody>\n",
       "</table>\n",
       "</div>"
      ],
      "text/plain": [
       "            Signal  Filter  ir_diff  30_signal  EURUSD  Returns  30_returns  \\\n",
       "2003-12-01     0.0     0.0      0.0          0     NaN      NaN         NaN   \n",
       "2003-12-02     0.0     0.0      0.0          0     NaN      NaN         NaN   \n",
       "2003-12-03     0.0     0.0      0.0          0     NaN      NaN         NaN   \n",
       "2003-12-04     0.0     0.0      0.0          0     NaN      NaN         NaN   \n",
       "2003-12-05     0.0     0.0      0.0          0     NaN      NaN         NaN   \n",
       "\n",
       "            30_success  \n",
       "2003-12-01         NaN  \n",
       "2003-12-02         NaN  \n",
       "2003-12-03         NaN  \n",
       "2003-12-04         NaN  \n",
       "2003-12-05         NaN  "
      ]
     },
     "execution_count": 17,
     "metadata": {},
     "output_type": "execute_result"
    }
   ],
   "source": [
    "daily[str(s)+\"_success\"] = ((daily[daily.Signal!= 0][str(s)+\"_returns\"].diff()>0)*1).shift(-1)\n",
    "daily.head()"
   ]
  },
  {
   "cell_type": "markdown",
   "id": "3686696e",
   "metadata": {},
   "source": [
    "The Null hypothesis of the test is that the current mean is different from the sample mean. Therefore if we fail to reject the null hypothesis, then we expect the direction to change. \n",
    "\n",
    "So if $\\bar{\\epsilon} <0$ and we fail to reject the null hypothesis, then we think that the current errors are greater than 0. This means that the interest rate differential is rising and we should therefor enter a short position in the yen.\n",
    "\n",
    "So if $\\bar{\\epsilon} >0$ and we fail to reject the null hypothesis, then we think that the current errors are less than 0. This means that the interest rate differential is rising and we should therefor enter a long position in the yen."
   ]
  },
  {
   "cell_type": "markdown",
   "id": "99ebbbb4",
   "metadata": {},
   "source": [
    "**b)**"
   ]
  },
  {
   "cell_type": "code",
   "execution_count": 18,
   "id": "ee5da732",
   "metadata": {},
   "outputs": [
    {
     "data": {
      "image/png": "[encoded data removed]",
      "text/plain": [
       "<Figure size 1080x360 with 1 Axes>"
      ]
     },
     "metadata": {
      "needs_background": "light"
     },
     "output_type": "display_data"
    }
   ],
   "source": [
    "plt.figure(figsize = (15, 5))\n",
    "\n",
    "plt.title(\"Exchange Rates and Possible Interest Rate Surprise (409 Test):\"+ \" k=\" + str(k)+\", T=\"+str(T))\n",
    "\n",
    "plt.plot(daily[\"EURUSD\"])\n",
    "\n",
    "longsuccess = daily[(daily[str(s)+\"_success\"] == 1) & (daily[\"Signal\"] == 1)]\n",
    "longfail = daily[(daily[str(s)+\"_success\"] == 0) & (daily[\"Signal\"] == 1)] \n",
    "shortsuccess = daily[(daily[str(s)+\"_success\"] == 1) & (daily[\"Signal\"] == -1)]\n",
    "shortfail = daily[(daily[str(s)+\"_success\"] == 0) & (daily[\"Signal\"] == -1)]\n",
    "\n",
    "plt.scatter(longsuccess.index, longsuccess[\"EURUSD\"], color = 'blue', s = 50)\n",
    "plt.scatter(longfail.index, longfail[\"EURUSD\"], color = 'blue', s = 50, marker = \"x\")\n",
    "\n",
    "plt.scatter(shortsuccess.index, shortsuccess[\"EURUSD\"], color = 'red', s = 50)\n",
    "plt.scatter(shortfail.index, shortfail[\"EURUSD\"], color = 'red', s = 50, marker = \"x\")\n",
    "\n",
    "plt.legend([\"EURUSD Exchange Rate\", \"Long Success\", \"Long Fail\", \"Short Success\", \"Short Fail\"])\n",
    "#plt.xlim([datetime.date(2022, 1, 1), datetime.date(2023, 1, 1)])\n",
    "plt.grid()"
   ]
  },
  {
   "cell_type": "code",
   "execution_count": 19,
   "id": "f905d118",
   "metadata": {},
   "outputs": [],
   "source": [
    "mret = str(i)+\"_returns\""
   ]
  },
  {
   "cell_type": "code",
   "execution_count": 20,
   "id": "a6ae130e",
   "metadata": {},
   "outputs": [
    {
     "data": {
      "image/png": "[encoded data removed]",
      "text/plain": [
       "<Figure size 1080x360 with 1 Axes>"
      ]
     },
     "metadata": {
      "needs_background": "light"
     },
     "output_type": "display_data"
    }
   ],
   "source": [
    "plt.figure(figsize = (15, 5))\n",
    "d2 = daily[daily.index.year >= 2020]\n",
    "(daily[mret].dropna()).plot()\n",
    "\n",
    "plt.title(\"Interest Diff. Strategy:\"+ \" k=\" + str(k)+\", T=\"+str(T))\n",
    "\n",
    "\n",
    "\n",
    "plt.legend([\"Equity Curve\", \"Long Success\", \"Long Fail\", \"Short Success\", \"Short Fail\"])\n",
    "\n",
    "plt.grid()\n",
    "#plt.xlim([\"1/1/2019\", \"1/1/2022\"])"
   ]
  },
  {
   "cell_type": "markdown",
   "id": "824bd70b",
   "metadata": {},
   "source": [
    "**c)**"
   ]
  },
  {
   "cell_type": "code",
   "execution_count": 21,
   "id": "5ac0bfbe",
   "metadata": {},
   "outputs": [],
   "source": [
    "start = daily[[\"EURUSD\", mret, \"30_signal\"]][123:].index[0]\n",
    "\n",
    "df = daily[daily.Signal != 0][[\"30_signal\", \"EURUSD\"]].copy()\n",
    "df['D'] = df[\"30_signal\"]"
   ]
  },
  {
   "cell_type": "code",
   "execution_count": 22,
   "id": "0d054a81",
   "metadata": {},
   "outputs": [],
   "source": [
    "df = df[:-2].copy()"
   ]
  },
  {
   "cell_type": "code",
   "execution_count": 23,
   "id": "8ac51c23",
   "metadata": {},
   "outputs": [],
   "source": [
    "df = df[:-2].copy()\n",
    "df['s_current'] = daily[daily.index.isin(df.index)][\"EURUSD\"].values\n",
    "df['s_future'] = daily[daily.index.isin(df.index+datetime.timedelta(30))][\"EURUSD\"].values\n",
    "#switched 41 to 30 on timedelta because that is what I used for \"i\"\n",
    "\n",
    "# Getting the realized exchange rate\n",
    "df['R'] = np.where(df['s_future'] >= df['s_current'], 1, -1)"
   ]
  },
  {
   "cell_type": "code",
   "execution_count": 24,
   "id": "a5070568",
   "metadata": {},
   "outputs": [],
   "source": [
    "## Sample Covariance\n",
    "df['W'] = (df['D']-np.mean(df['D']))*(df['R']-np.mean(df['R']))\n",
    "T_B = np.mean(df['W'])"
   ]
  },
  {
   "cell_type": "code",
   "execution_count": 43,
   "id": "2c3c1830",
   "metadata": {},
   "outputs": [
    {
     "data": {
      "text/html": [
       "<div>\n",
       "<style scoped>\n",
       "    .dataframe tbody tr th:only-of-type {\n",
       "        vertical-align: middle;\n",
       "    }\n",
       "\n",
       "    .dataframe tbody tr th {\n",
       "        vertical-align: top;\n",
       "    }\n",
       "\n",
       "    .dataframe thead th {\n",
       "        text-align: right;\n",
       "    }\n",
       "</style>\n",
       "<table border=\"1\" class=\"dataframe\">\n",
       "  <thead>\n",
       "    <tr style=\"text-align: right;\">\n",
       "      <th></th>\n",
       "      <th>30_signal</th>\n",
       "      <th>EURUSD</th>\n",
       "      <th>D</th>\n",
       "      <th>s_current</th>\n",
       "      <th>s_future</th>\n",
       "      <th>R</th>\n",
       "      <th>W</th>\n",
       "      <th>W_2</th>\n",
       "    </tr>\n",
       "  </thead>\n",
       "  <tbody>\n",
       "    <tr>\n",
       "      <th>2007-03-01</th>\n",
       "      <td>1</td>\n",
       "      <td>1.317003</td>\n",
       "      <td>1</td>\n",
       "      <td>1.317003</td>\n",
       "      <td>1.317003</td>\n",
       "      <td>1</td>\n",
       "      <td>0.049231</td>\n",
       "      <td>0.000000</td>\n",
       "    </tr>\n",
       "    <tr>\n",
       "      <th>2007-04-01</th>\n",
       "      <td>1</td>\n",
       "      <td>1.335898</td>\n",
       "      <td>1</td>\n",
       "      <td>1.335898</td>\n",
       "      <td>1.360100</td>\n",
       "      <td>1</td>\n",
       "      <td>0.049231</td>\n",
       "      <td>0.024202</td>\n",
       "    </tr>\n",
       "    <tr>\n",
       "      <th>2007-05-01</th>\n",
       "      <td>1</td>\n",
       "      <td>1.360100</td>\n",
       "      <td>1</td>\n",
       "      <td>1.360100</td>\n",
       "      <td>1.360100</td>\n",
       "      <td>1</td>\n",
       "      <td>0.049231</td>\n",
       "      <td>0.000000</td>\n",
       "    </tr>\n",
       "    <tr>\n",
       "      <th>2007-06-01</th>\n",
       "      <td>1</td>\n",
       "      <td>1.344194</td>\n",
       "      <td>1</td>\n",
       "      <td>1.344194</td>\n",
       "      <td>1.353601</td>\n",
       "      <td>1</td>\n",
       "      <td>0.049231</td>\n",
       "      <td>0.009407</td>\n",
       "    </tr>\n",
       "    <tr>\n",
       "      <th>2007-07-01</th>\n",
       "      <td>1</td>\n",
       "      <td>1.353601</td>\n",
       "      <td>1</td>\n",
       "      <td>1.353601</td>\n",
       "      <td>1.353601</td>\n",
       "      <td>1</td>\n",
       "      <td>0.049231</td>\n",
       "      <td>0.000000</td>\n",
       "    </tr>\n",
       "    <tr>\n",
       "      <th>...</th>\n",
       "      <td>...</td>\n",
       "      <td>...</td>\n",
       "      <td>...</td>\n",
       "      <td>...</td>\n",
       "      <td>...</td>\n",
       "      <td>...</td>\n",
       "      <td>...</td>\n",
       "      <td>...</td>\n",
       "    </tr>\n",
       "    <tr>\n",
       "      <th>2021-10-01</th>\n",
       "      <td>1</td>\n",
       "      <td>1.157448</td>\n",
       "      <td>1</td>\n",
       "      <td>1.157448</td>\n",
       "      <td>1.157448</td>\n",
       "      <td>1</td>\n",
       "      <td>0.049231</td>\n",
       "      <td>0.000000</td>\n",
       "    </tr>\n",
       "    <tr>\n",
       "      <th>2021-11-01</th>\n",
       "      <td>1</td>\n",
       "      <td>1.155668</td>\n",
       "      <td>1</td>\n",
       "      <td>1.155668</td>\n",
       "      <td>1.133029</td>\n",
       "      <td>-1</td>\n",
       "      <td>-0.196923</td>\n",
       "      <td>-0.022640</td>\n",
       "    </tr>\n",
       "    <tr>\n",
       "      <th>2021-12-01</th>\n",
       "      <td>1</td>\n",
       "      <td>1.133029</td>\n",
       "      <td>1</td>\n",
       "      <td>1.133029</td>\n",
       "      <td>1.133029</td>\n",
       "      <td>1</td>\n",
       "      <td>0.049231</td>\n",
       "      <td>0.000000</td>\n",
       "    </tr>\n",
       "    <tr>\n",
       "      <th>2022-01-01</th>\n",
       "      <td>1</td>\n",
       "      <td>1.132503</td>\n",
       "      <td>1</td>\n",
       "      <td>1.132503</td>\n",
       "      <td>1.132503</td>\n",
       "      <td>1</td>\n",
       "      <td>0.049231</td>\n",
       "      <td>0.000000</td>\n",
       "    </tr>\n",
       "    <tr>\n",
       "      <th>2022-02-01</th>\n",
       "      <td>1</td>\n",
       "      <td>1.122965</td>\n",
       "      <td>1</td>\n",
       "      <td>1.122965</td>\n",
       "      <td>1.121592</td>\n",
       "      <td>-1</td>\n",
       "      <td>-0.196923</td>\n",
       "      <td>-0.001373</td>\n",
       "    </tr>\n",
       "  </tbody>\n",
       "</table>\n",
       "<p>130 rows × 8 columns</p>\n",
       "</div>"
      ],
      "text/plain": [
       "            30_signal    EURUSD  D  s_current  s_future  R         W       W_2\n",
       "2007-03-01          1  1.317003  1   1.317003  1.317003  1  0.049231  0.000000\n",
       "2007-04-01          1  1.335898  1   1.335898  1.360100  1  0.049231  0.024202\n",
       "2007-05-01          1  1.360100  1   1.360100  1.360100  1  0.049231  0.000000\n",
       "2007-06-01          1  1.344194  1   1.344194  1.353601  1  0.049231  0.009407\n",
       "2007-07-01          1  1.353601  1   1.353601  1.353601  1  0.049231  0.000000\n",
       "...               ...       ... ..        ...       ... ..       ...       ...\n",
       "2021-10-01          1  1.157448  1   1.157448  1.157448  1  0.049231  0.000000\n",
       "2021-11-01          1  1.155668  1   1.155668  1.133029 -1 -0.196923 -0.022640\n",
       "2021-12-01          1  1.133029  1   1.133029  1.133029  1  0.049231  0.000000\n",
       "2022-01-01          1  1.132503  1   1.132503  1.132503  1  0.049231  0.000000\n",
       "2022-02-01          1  1.122965  1   1.122965  1.121592 -1 -0.196923 -0.001373\n",
       "\n",
       "[130 rows x 8 columns]"
      ]
     },
     "execution_count": 43,
     "metadata": {},
     "output_type": "execute_result"
    }
   ],
   "source": [
    "df"
   ]
  },
  {
   "cell_type": "code",
   "execution_count": 25,
   "id": "3cc807e1",
   "metadata": {},
   "outputs": [
    {
     "data": {
      "text/plain": [
       "0.012307692307692398"
      ]
     },
     "execution_count": 25,
     "metadata": {},
     "output_type": "execute_result"
    }
   ],
   "source": [
    "T_B"
   ]
  },
  {
   "cell_type": "code",
   "execution_count": 26,
   "id": "a94837b1",
   "metadata": {},
   "outputs": [],
   "source": [
    "## Newey-West LRV estimator\n",
    "dy = df['W'] - np.mean(df['W'])\n",
    "gamma_0 = sum((dy)**2)/len(df)\n",
    "gamma_1 = np.mean((dy*dy.shift(-1))[:len(df)-1])\n",
    "LRV = gamma_0 + 2*(1-1/2)*gamma_1"
   ]
  },
  {
   "cell_type": "code",
   "execution_count": 27,
   "id": "3c5284b8",
   "metadata": {},
   "outputs": [
    {
     "name": "stdout",
     "output_type": "stream",
     "text": [
      "Test statistic :  0.4158177763593187 , 5 % critical value :  1.64\n"
     ]
    }
   ],
   "source": [
    "## Test-statistic\n",
    "from scipy.stats import norm\n",
    "\n",
    "statistic = T_B/np.sqrt(LRV/df.shape[0])\n",
    "print('Test statistic : ', statistic, ', 5 % critical value : ', round(norm.ppf(0.95),2))"
   ]
  },
  {
   "cell_type": "markdown",
   "id": "4a1d4df7",
   "metadata": {},
   "source": [
    "Fail to reject the null hypothesis."
   ]
  },
  {
   "cell_type": "code",
   "execution_count": 28,
   "id": "aa99d84d",
   "metadata": {},
   "outputs": [],
   "source": [
    "# Weighted Mean\n",
    "df['W_2'] = df['D']*(df['s_future']-df['s_current'])\n",
    "T_WB = np.mean(df['W_2'])"
   ]
  },
  {
   "cell_type": "code",
   "execution_count": 29,
   "id": "baea681b",
   "metadata": {},
   "outputs": [
    {
     "data": {
      "text/plain": [
       "0.002000841727623571"
      ]
     },
     "execution_count": 29,
     "metadata": {},
     "output_type": "execute_result"
    }
   ],
   "source": [
    "T_WB"
   ]
  },
  {
   "cell_type": "code",
   "execution_count": 30,
   "id": "b077540c",
   "metadata": {},
   "outputs": [],
   "source": [
    "## Newey-West LRV estimator\n",
    "dy_2 = df['W_2'] - np.mean(df['W_2'])\n",
    "gamma_0 = sum((dy_2)**2)/len(df)\n",
    "gamma_1 = np.mean((dy_2*dy_2.shift(-1))[:len(df)-1])\n",
    "LRV_2 = gamma_0 + 2*(1-1/2)*gamma_1"
   ]
  },
  {
   "cell_type": "code",
   "execution_count": 31,
   "id": "31706271",
   "metadata": {},
   "outputs": [
    {
     "name": "stdout",
     "output_type": "stream",
     "text": [
      "Test statistic :  1.0533178517612802 , 5 % critical value :  1.64\n"
     ]
    }
   ],
   "source": [
    "## Test-statistic\n",
    "statistic_2 = T_WB/np.sqrt(LRV_2/len(df))\n",
    "print('Test statistic : ', statistic_2, ', 5 % critical value : ', round(norm.ppf(0.95),2))"
   ]
  },
  {
   "cell_type": "markdown",
   "id": "ab635ff3",
   "metadata": {},
   "source": [
    "Fail to reject the null hypothesis"
   ]
  },
  {
   "cell_type": "markdown",
   "id": "c60da9bb",
   "metadata": {},
   "source": [
    "**d)**"
   ]
  },
  {
   "cell_type": "markdown",
   "id": "609d103b",
   "metadata": {},
   "source": [
    "As K approaches zero, the interest rate differential curve found itself moving further away from the Kalman Filter. The higher the K, the more closer together the two lines became. Changing T makes the strategy vunerable to volatility when T decreases. The strategy is not very robust. Increasing T caused the mean to be more robust and less sensitive to outliers. Increasing Z lead to more false-negatives than we would like and decreasing Z produced more false-positives than we would like."
   ]
  },
  {
   "cell_type": "markdown",
   "id": "09d94192",
   "metadata": {},
   "source": [
    "# 3"
   ]
  },
  {
   "cell_type": "markdown",
   "id": "4457ea7d",
   "metadata": {},
   "source": [
    "**a)**"
   ]
  },
  {
   "cell_type": "code",
   "execution_count": 32,
   "id": "febcf594",
   "metadata": {},
   "outputs": [],
   "source": [
    "def ytm(fv, n, c, r, pv):\n",
    "    return ((c+((fv-pv)/n))/((fv+pv)/2))"
   ]
  },
  {
   "cell_type": "code",
   "execution_count": 33,
   "id": "a4842570",
   "metadata": {},
   "outputs": [
    {
     "name": "stdout",
     "output_type": "stream",
     "text": [
      "5.19%\n"
     ]
    }
   ],
   "source": [
    "print(str(round((100*ytm(1000,10,50,.01, 984.94)),3)) + '%')"
   ]
  },
  {
   "cell_type": "markdown",
   "id": "a5ec8255",
   "metadata": {},
   "source": [
    "**b)**"
   ]
  },
  {
   "cell_type": "code",
   "execution_count": 34,
   "id": "cb4bb8a6",
   "metadata": {},
   "outputs": [
    {
     "data": {
      "text/plain": [
       "792.0792079207921"
      ]
     },
     "execution_count": 34,
     "metadata": {},
     "output_type": "execute_result"
    }
   ],
   "source": [
    "(.8*1000)/(1.01)"
   ]
  },
  {
   "cell_type": "markdown",
   "id": "578ff699",
   "metadata": {},
   "source": [
    "# 4"
   ]
  },
  {
   "cell_type": "code",
   "execution_count": 35,
   "id": "c80ed032",
   "metadata": {},
   "outputs": [],
   "source": [
    "def cashFlow(fv, n, c):\n",
    "    C = fv*c\n",
    "    cfLst = list()\n",
    "    for i in range(n-1):\n",
    "        cfLst.append(C)\n",
    "    cfLst.append(fv + C)\n",
    "    return cfLst"
   ]
  },
  {
   "cell_type": "code",
   "execution_count": 36,
   "id": "c39c850d",
   "metadata": {},
   "outputs": [],
   "source": [
    "def discountFactor(n, r):\n",
    "    dfLst = list()\n",
    "    for i in range(1, n+1):\n",
    "        dfLst.append(1/((1+r)**i))\n",
    "    return dfLst"
   ]
  },
  {
   "cell_type": "code",
   "execution_count": 37,
   "id": "1971159c",
   "metadata": {},
   "outputs": [],
   "source": [
    "def numerator(fv, n, c, r):\n",
    "    cfLst = cashFlow(fv, n, c)\n",
    "    dfLst = discountFactor(n, r)\n",
    "    total = 0.0\n",
    "    for i in range(1, n+1):\n",
    "        total += (i*cfLst[i-1]*dfLst[i-1])\n",
    "    return total"
   ]
  },
  {
   "cell_type": "code",
   "execution_count": 38,
   "id": "fce49acb",
   "metadata": {},
   "outputs": [],
   "source": [
    "def denominator(fv, n, c, r):\n",
    "    C = fv*c\n",
    "    denom = 0.0\n",
    "    for i in range (1, n):\n",
    "        denom = denom + (C/((1 + r)**i))\n",
    "    denom += ((C+fv)/((1 + r)**n))\n",
    "    return denom"
   ]
  },
  {
   "cell_type": "code",
   "execution_count": 39,
   "id": "7c0ca61c",
   "metadata": {},
   "outputs": [],
   "source": [
    "def duration(fv, n, c, r):\n",
    "    num = numerator(fv, n, c, r)\n",
    "    denom = denominator(fv, n, c, r)\n",
    "    return num/denom"
   ]
  },
  {
   "cell_type": "markdown",
   "id": "e3b3955a",
   "metadata": {},
   "source": [
    "**a)**"
   ]
  },
  {
   "cell_type": "code",
   "execution_count": 40,
   "id": "dccfd298",
   "metadata": {},
   "outputs": [
    {
     "name": "stdout",
     "output_type": "stream",
     "text": [
      "The duration for a 10-year, 15% coupon bond with interest rate of 10%: 6.281090250274969\n"
     ]
    }
   ],
   "source": [
    "print('The duration for a 10-year, 15% coupon bond with interest rate of 10%: ' + str(duration(1000, 10, .15, .1)))"
   ]
  },
  {
   "cell_type": "code",
   "execution_count": 41,
   "id": "02b6e243",
   "metadata": {},
   "outputs": [
    {
     "name": "stdout",
     "output_type": "stream",
     "text": [
      "The duration for a 7-year, 3% coupon bond with interest rate of 3%: 6.417191443878188\n"
     ]
    }
   ],
   "source": [
    "print('The duration for a 7-year, 3% coupon bond with interest rate of 3%: ' + str(duration(1000, 7, .03, .03)))"
   ]
  },
  {
   "cell_type": "markdown",
   "id": "e600d0ba",
   "metadata": {},
   "source": [
    "The 7-year bond has a higher duration. The higher the duration, the higher risk the bond is to interest rates. The bond's price will drop if interest rates rise, so the 7-year bond is riskier in terms of interest rates."
   ]
  },
  {
   "cell_type": "markdown",
   "id": "c34b17c9",
   "metadata": {},
   "source": [
    "**b)**"
   ]
  },
  {
   "cell_type": "markdown",
   "id": "28ec5d7f",
   "metadata": {},
   "source": [
    "We expect the price of the 7-year bond's price to change greater than the 10-year bond because it has a higher duration. The price will drop further than the 10-year bond when we increase the interest rate by 1% because it has a higher interest rate risk."
   ]
  },
  {
   "cell_type": "markdown",
   "id": "ec7421cd",
   "metadata": {},
   "source": [
    "**c)**"
   ]
  },
  {
   "cell_type": "code",
   "execution_count": 42,
   "id": "2467a9ea",
   "metadata": {},
   "outputs": [
    {
     "name": "stdout",
     "output_type": "stream",
     "text": [
      "The duration of the portfolio is: 6.321920608355934\n"
     ]
    }
   ],
   "source": [
    "print('The duration of the portfolio is: ' + str(.7*duration(1000, 10, .15, .1) + .3*duration(1000, 7, .03, .03)))"
   ]
  },
  {
   "cell_type": "markdown",
   "id": "0881cc55",
   "metadata": {},
   "source": [
    "# 5"
   ]
  },
  {
   "cell_type": "markdown",
   "id": "2a8271f3",
   "metadata": {},
   "source": [
    "**a)**"
   ]
  },
  {
   "cell_type": "markdown",
   "id": "a8969499",
   "metadata": {},
   "source": [
    "The ECB raised interest rates in December by 50 basis points because the substantial upward revision to the inflation outlook. In particular, they judged that interest rates would still have to rise significantly at a steady pace to reach levels that are sufficiently restrictive to ensure a timely return of inflation to their two per cent medium-term target. In February the ECB continued to raise rates by 50 basis points to ensure a timely return of inflation to their two per cent medium-term target. They plan to raise rates another 50 basis points in March. Inflation is still not reaching levels the ECB wants. Not much has changed between December and February."
   ]
  },
  {
   "cell_type": "markdown",
   "id": "6140d1ff",
   "metadata": {},
   "source": [
    "The Fed referenced the war in Ukraine as causing inflation risks. Furthermore, they want to return inflation to its 2% target. Therefore, they raised the Federal Funds rate by a quarter of a percent in December. In February, they issued an almost identitical statement referencing about the Ukraine war causing inflation risks. Inflation is not coming down to their 2% target, just like in December, so they raised the Federal Funds rate by another quarter of a percent."
   ]
  },
  {
   "cell_type": "markdown",
   "id": "d406afff",
   "metadata": {},
   "source": [
    "**b)**"
   ]
  },
  {
   "cell_type": "markdown",
   "id": "2d9a4687",
   "metadata": {},
   "source": [
    "The strong job market is quite unexpected. Unemployment is very low with inflation being high and a recession looming overhead. Even with all the tech layoffs, unemployment remains low. The conflict in Ukraine has been going on for almost a year now. However, not reaching an agreement is quite unexpected. All this contributes to inflation from decreasing, leading the banks to raise interest rates again."
   ]
  },
  {
   "cell_type": "markdown",
   "id": "60769569",
   "metadata": {},
   "source": [
    "**c)**"
   ]
  },
  {
   "cell_type": "markdown",
   "id": "e52dea33",
   "metadata": {},
   "source": [
    "Europe was a big buyer of Russian oil and natural gas, more so than the US. With the rate hikes in the cost of energy, the Euro depreciated. The ECB was also slower to react to inflation pressures compared to the US. The US has a stronger currency because of how aggressively it fought and still fights inflation. Foreign investor want to invest in a place with higher interest rates, further devauling the Euro."
   ]
  },
  {
   "cell_type": "markdown",
   "id": "d85327ac",
   "metadata": {},
   "source": [
    "# 6"
   ]
  },
  {
   "cell_type": "markdown",
   "id": "e73918f5",
   "metadata": {},
   "source": [
    "I believe Fed chairman Jerome Powell said it well that his job is to bring inlation to 2%. He worked in the finance industry and they can make their predictions, but the Fed will do whatever it takes to bring inflation down. The inflation rate should be the Fed's focus and they need not be deterred from what the market says. The Fed is not there to appease people and make them rich from their gambles. With access to the stock markets being easier than ever, many stockholders are speculators and not intelligent investors. They do not do their thorough research and react to what others are doing. The Fed should follow my reccomendation because inflation needs to be curbed for a healthy economy, not a rising stock market."
   ]
  },
  {
   "cell_type": "code",
   "execution_count": null,
   "id": "a657584e",
   "metadata": {},
   "outputs": [],
   "source": []
  }
 ],
 "metadata": {
  "kernelspec": {
   "display_name": "Python 3 (ipykernel)",
   "language": "python",
   "name": "python3"
  },
  "language_info": {
   "codemirror_mode": {
    "name": "ipython",
    "version": 3
   },
   "file_extension": ".py",
   "mimetype": "text/x-python",
   "name": "python",
   "nbconvert_exporter": "python",
   "pygments_lexer": "ipython3",
   "version": "3.9.12"
  }
 },
 "nbformat": 4,
 "nbformat_minor": 5
}
